{
 "cells": [
  {
   "cell_type": "markdown",
   "metadata": {},
   "source": [
    "# Example experimental analysis\n",
    "\n",
    "This is how Kasey analyzed several biological replicates for one experiment, from start to finish. In this experiment, base gene, OL circuit, and CL circuit ComMAND constructs were transfected with varying plasmid amounts."
   ]
  },
  {
   "cell_type": "code",
   "execution_count": null,
   "metadata": {},
   "outputs": [],
   "source": [
    "# Import our favorite packages\n",
    "#import base\n",
    "import matplotlib\n",
    "import matplotlib.pyplot as plt\n",
    "import numpy as np\n",
    "import pandas as pd\n",
    "import rushd as rd\n",
    "import scipy as sp\n",
    "import seaborn as sns\n",
    "\n",
    "# Enable concurrent editing of `base.py`, a helper script\n",
    "# (to be added to the tutorial)\n",
    "# from importlib import reload\n",
    "# reload(base)\n",
    "\n",
    "# Set plotting context\n",
    "sns.set_style('ticks')\n",
    "sns.set_context('talk',rc={'font.family': 'sans-serif', 'font.sans-serif':['Helvetica Neue']})"
   ]
  },
  {
   "cell_type": "markdown",
   "metadata": {},
   "source": [
    "### Load data\n",
    "\n",
    "Load plates from multiple biological replicates into a single DataFrame with associated metadata."
   ]
  },
  {
   "cell_type": "code",
   "execution_count": null,
   "metadata": {},
   "outputs": [],
   "source": [
    "# Define plate-level metadata to load from multiple experiments\n",
    "base_path = rd.datadir/'instruments'/'data'/'attune'/'kasey'\n",
    "plates = pd.DataFrame({\n",
    "    'data_path': [base_path/'2024.07.18_exp100'/'export', base_path/'2024.09.11_exp100.3'/'export', base_path/'2024.09.28_exp100.5'/'export'],\n",
    "    'yaml_path': [base_path/'2024.07.18_exp100'/'export'/'wells.yaml']*3, # all bioreps have the same plate map\n",
    "    'biorep': [1, 2, 3],\n",
    "    'exp': ['exp100.' + str(i) for i in range(1,6,2)],\n",
    "})\n",
    "\n",
    "# Define path to save data cache and plots\n",
    "output_path = rd.rootdir/'output'/'example_plasmid-titration'\n",
    "cache_path = output_path/'data.gzip'\n",
    "\n",
    "# Display metadata from yaml file to confirm layouts are correct\n",
    "for p in plates['yaml_path'].unique():\n",
    "    rd.plot.plot_well_metadata(p)"
   ]
  },
  {
   "cell_type": "code",
   "execution_count": null,
   "metadata": {},
   "outputs": [],
   "source": [
    "data = pd.DataFrame()\n",
    "\n",
    "# If the cache file exists, load from cache\n",
    "if cache_path.is_file(): data = pd.read_parquet(cache_path)\n",
    "\n",
    "# Otherwise, load from the SharePoint\n",
    "else: \n",
    "\n",
    "    # Load relevant channels from all plates\n",
    "    channel_list = ['mRuby2-A','tagBFP-A','mGL-A']\n",
    "    data = rd.flow.load_groups_with_metadata(plates, columns=channel_list)\n",
    "\n",
    "    # Remove negative channel values\n",
    "    for c in channel_list: data = data[data[c]>0]\n",
    "\n",
    "    # Save as cache\n",
    "    data.to_parquet(rd.outfile(cache_path))\n",
    "    \n",
    "display(data)"
   ]
  },
  {
   "cell_type": "code",
   "execution_count": null,
   "metadata": {},
   "outputs": [],
   "source": [
    "# Add metadata for plasmids (the 'construct' column)\n",
    "metadata = pd.read_excel(rd.datadir/'projects'/'miR-iFFL'/'plasmids'/'construct-metadata.xlsx')\n",
    "data = data.merge(metadata, how='left', on='construct')\n",
    "display(data)"
   ]
  },
  {
   "cell_type": "code",
   "execution_count": null,
   "metadata": {},
   "outputs": [],
   "source": [
    "# Create columns with interpretable names,\n",
    "#  rather than the raw channel names from the Attune\n",
    "data['marker'] = data['mGL-A']      # transfection marker\n",
    "data['output'] = data['mRuby2-A']   # circuit output\n",
    "data['filler'] = data['tagBFP-A']   # \"filler\" plasmid to keep DNA amount constant when changing amount of output plasmid"
   ]
  },
  {
   "cell_type": "code",
   "execution_count": null,
   "metadata": {},
   "outputs": [],
   "source": [
    "# Define color palettes for plotting\n",
    "main_palette = {\n",
    "    'na': 'black',  # base gene, untransfected\n",
    "    'NT': 'grey',   # OL circuit\n",
    "    'T': 'teal'     # CL circuit\n",
    "}\n",
    "\n",
    "# A modified continuous color palette, removing the hard-to-see yellow end\n",
    "no_yellow_viridis = matplotlib.colors.ListedColormap(matplotlib.colormaps['viridis'](np.linspace(0,0.82,256)))"
   ]
  },
  {
   "cell_type": "markdown",
   "metadata": {},
   "source": [
    "### Gate transfected cells\n",
    "\n",
    "Draw gates based on the untransfected population, then gate transfected cells and save in a new DataFrame."
   ]
  },
  {
   "cell_type": "code",
   "execution_count": null,
   "metadata": {},
   "outputs": [],
   "source": [
    "# Compute gates for each experiment separately\n",
    "gates = data[data['construct']=='UT'].groupby(['exp'])['marker'].apply(lambda x: x.quantile(0.999)).reset_index()\n",
    "\n",
    "# Add gate for exp100.1 manually (forgot to include untransfected condition)\n",
    "gates.loc[len(gates.index)] = ['exp100.1', gates['marker'].mean()] \n",
    "\n",
    "display(gates)"
   ]
  },
  {
   "cell_type": "code",
   "execution_count": null,
   "metadata": {},
   "outputs": [],
   "source": [
    "# Plot 1D histogram to confirm gates look reasonable\n",
    "g = sns.displot(data=data, x='marker', row='exp', col='construct',\n",
    "                hue='amount', palette=no_yellow_viridis, kind='kde', hue_norm=matplotlib.colors.LogNorm(),\n",
    "                facet_kws=dict(margin_titles=True),\n",
    "                log_scale=True, common_norm=False)\n",
    "\n",
    "# Add reference lines corresponding to gates\n",
    "for (exp, construct), ax in g.axes_dict.items():\n",
    "    ax.axvline(gates.loc[gates.exp==exp, 'marker'].values[0], color='black', zorder=0)"
   ]
  },
  {
   "cell_type": "code",
   "execution_count": null,
   "metadata": {},
   "outputs": [],
   "source": [
    "# Also plot 2D distributions\n",
    "plot_df = data.groupby(['exp','construct','amount']).sample(1000)\n",
    "g = sns.displot(data=plot_df, x='marker', y='output', hue='amount', palette=no_yellow_viridis, kind='kde',\n",
    "                hue_norm=matplotlib.colors.LogNorm(), row='exp', col='construct', facet_kws=dict(margin_titles=True),\n",
    "                log_scale=True, common_norm=False, levels=5)\n",
    "\n",
    "# Add reference lines corresponding to gates\n",
    "for (exp, construct), ax in g.axes_dict.items():\n",
    "    ax.axvline(gates.loc[gates.exp==exp, 'marker'].values[0], color='black', zorder=0)"
   ]
  },
  {
   "cell_type": "code",
   "execution_count": null,
   "metadata": {},
   "outputs": [],
   "source": [
    "# Gate on marker expression\n",
    "def gate_data(df):\n",
    "    gate = gates.loc[gates.exp==df.exp.values[0], 'marker'].values[0]\n",
    "    return data[(data['mGL-A']>gate) & (data.construct!='UT')]\n",
    "\n",
    "transfected = data.groupby('exp')[data.columns].apply(gate_data).reset_index(drop=True)"
   ]
  },
  {
   "cell_type": "markdown",
   "metadata": {},
   "source": [
    "### Explore data distributions\n",
    "\n",
    "Plot 2D distributions across several facets to explore data."
   ]
  },
  {
   "cell_type": "code",
   "execution_count": null,
   "metadata": {},
   "outputs": [],
   "source": [
    "# TODO"
   ]
  },
  {
   "cell_type": "markdown",
   "metadata": {},
   "source": [
    "### Calculate summary statistics\n",
    "\n",
    "Calculate geometric mean, etc. for each condition to visualize trends succinctly."
   ]
  },
  {
   "cell_type": "code",
   "execution_count": null,
   "metadata": {},
   "outputs": [],
   "source": [
    "# TODO"
   ]
  },
  {
   "cell_type": "markdown",
   "metadata": {},
   "source": [
    "# Old"
   ]
  },
  {
   "cell_type": "code",
   "execution_count": null,
   "metadata": {},
   "outputs": [],
   "source": [
    "plot_df = data.groupby(['exp','construct','amount']).sample(1000)\n",
    "g = sns.displot(data=plot_df, x='marker', y='filler', hue='amount', palette=no_yellow_viridis, kind='kde',\n",
    "                hue_norm=matplotlib.colors.LogNorm(), row='exp', col='construct', facet_kws=dict(margin_titles=True),\n",
    "                log_scale=True, common_norm=False, levels=5)\n"
   ]
  },
  {
   "cell_type": "code",
   "execution_count": null,
   "metadata": {},
   "outputs": [],
   "source": [
    "plot_df = data\n",
    "g = sns.displot(data=plot_df, x='marker', hue='amount', palette=no_yellow_viridis, kind='kde',\n",
    "                hue_norm=matplotlib.colors.LogNorm(), row='exp', col='construct', facet_kws=dict(margin_titles=True),\n",
    "                log_scale=True, common_norm=False)\n",
    "g.set(xlim=(2e0,1e5))"
   ]
  },
  {
   "cell_type": "code",
   "execution_count": null,
   "metadata": {},
   "outputs": [],
   "source": [
    "plot_df = data\n",
    "g = sns.displot(data=plot_df, x='filler', hue='amount', palette=no_yellow_viridis, kind='kde',\n",
    "                hue_norm=matplotlib.colors.LogNorm(), row='exp', col='construct', facet_kws=dict(margin_titles=True),\n",
    "                log_scale=True, common_norm=False)\n",
    "g.set(xlim=(2e0,1e6))"
   ]
  },
  {
   "cell_type": "code",
   "execution_count": null,
   "metadata": {},
   "outputs": [],
   "source": [
    "plot_df = data\n",
    "g = sns.displot(data=plot_df, x='output', hue='amount', palette=no_yellow_viridis, kind='kde',\n",
    "                hue_norm=matplotlib.colors.LogNorm(), row='exp', col='construct', facet_kws=dict(margin_titles=True),\n",
    "                log_scale=True, common_norm=False)\n",
    "g.set(xlim=(2e0,1e6))"
   ]
  },
  {
   "cell_type": "code",
   "execution_count": null,
   "metadata": {},
   "outputs": [],
   "source": [
    "# Categorize cells into quadrants based on two gates\n",
    "# Possible values:\n",
    "#   0 = double negative\n",
    "#   1 = x-positive\n",
    "#   2 = y-positive\n",
    "#   3 = double positive\n",
    "def get_quadrant(x,y,gate_x,gate_y):\n",
    "    df_quad = pd.DataFrame()\n",
    "    df_quad['x'] = x > gate_x\n",
    "    df_quad['y'] = y > gate_y\n",
    "    df_quad['quadrant'] = df_quad['x'].astype(int) + df_quad['y'].astype(int)*2\n",
    "    return df_quad['quadrant']\n",
    "\n",
    "df_list = []\n",
    "for exp, group in data.groupby('exp'): \n",
    "    df = group.copy()\n",
    "    df['quadrant'] = get_quadrant(group['marker'], group['filler'], \n",
    "                                  gates.loc[gates['exp']==exp, 'marker'].values[0],\n",
    "                                  gates.loc[gates['exp']==exp, 'filler'].values[0],)\n",
    "    df_list.append(df)\n",
    "df = pd.concat(df_list)\n",
    "display(df)"
   ]
  },
  {
   "cell_type": "code",
   "execution_count": null,
   "metadata": {},
   "outputs": [],
   "source": [
    "df_transfected = df[(df['quadrant']>0) & (df['construct']!='UT')]\n",
    "df_gated = df[(df['quadrant'].isin([1,3])) & (df['construct']!='UT')]"
   ]
  },
  {
   "cell_type": "code",
   "execution_count": null,
   "metadata": {},
   "outputs": [],
   "source": [
    "plot_df = df_transfected\n",
    "g = sns.displot(data=plot_df, x='output', hue='amount', palette=no_yellow_viridis, kind='kde',\n",
    "                hue_norm=matplotlib.colors.LogNorm(), row='exp', col='construct', facet_kws=dict(margin_titles=True),\n",
    "                log_scale=True, common_norm=False)\n",
    "g.set(xlim=(2e0,1e6))"
   ]
  },
  {
   "cell_type": "code",
   "execution_count": null,
   "metadata": {},
   "outputs": [],
   "source": [
    "plot_df = df_transfected.groupby(['exp','construct','amount']).sample(1000)\n",
    "g = sns.displot(data=plot_df, x='marker', y='output', hue='amount', palette=no_yellow_viridis, kind='kde',\n",
    "                hue_norm=matplotlib.colors.LogNorm(), row='exp', col='construct', facet_kws=dict(margin_titles=True),\n",
    "                log_scale=True, common_norm=False, levels=5)"
   ]
  },
  {
   "cell_type": "code",
   "execution_count": null,
   "metadata": {},
   "outputs": [],
   "source": [
    "plot_df = df_gated\n",
    "g = sns.displot(data=plot_df, x='marker', y='output', hue='amount', palette=no_yellow_viridis, kind='kde',\n",
    "                hue_norm=matplotlib.colors.LogNorm(), row='exp', col='construct', facet_kws=dict(margin_titles=True),\n",
    "                log_scale=True, common_norm=False, levels=5)"
   ]
  },
  {
   "cell_type": "markdown",
   "metadata": {},
   "source": [
    "### Plot data for experiments with constant marker\n",
    "(exp100.1, 100.3, 100.5)"
   ]
  },
  {
   "cell_type": "code",
   "execution_count": null,
   "metadata": {},
   "outputs": [],
   "source": [
    "# Bin data and calculate statistics\n",
    "df_quantiles, stats, _, fits = base.calculate_bins_stats(df_gated, by=['construct','amount','exp','biorep'])\n",
    "stats = stats.merge(metadata, how='left', on='construct')\n",
    "fits = fits.merge(metadata, how='left', on='construct')"
   ]
  },
  {
   "cell_type": "code",
   "execution_count": null,
   "metadata": {},
   "outputs": [],
   "source": [
    "plot_df = df_quantiles[(df_quantiles['construct']!='AIO.039') & (df_quantiles['exp']=='exp100.1')]\n",
    "g = sns.relplot(data=plot_df, x='bin_marker_quantiles_median', y='output', hue='construct', palette=main_palette, \n",
    "             legend=False, dashes=False, style='construct', markers=main_markers, kind='line', markersize=10, markeredgewidth=1,\n",
    "             estimator=sp.stats.gmean, errorbar=lambda x: (sp.stats.gmean(x) / sp.stats.gstd(x), sp.stats.gmean(x) * sp.stats.gstd(x)),\n",
    "             col='amount')\n",
    "g.set(xscale='log', yscale='log', xlabel='marker', ylim=(2e1,1e5))\n",
    "marker_baseline = stats.loc[(stats['exp']=='exp100.1') & (stats['construct']=='AIO.039'), 'output_gmean'].mean()\n",
    "for _, ax in g.axes_dict.items(): ax.axhline(marker_baseline, color='black', ls=':', zorder=0)\n",
    "g.figure.savefig(rd.outfile(output_path/'line_exp100_by-amount.svg'))"
   ]
  },
  {
   "cell_type": "code",
   "execution_count": null,
   "metadata": {},
   "outputs": [],
   "source": [
    "plot_df = df_quantiles[(df_quantiles['construct']!='AIO.039') & (df_quantiles['exp']=='exp100.3')]\n",
    "g = sns.relplot(data=plot_df, x='bin_marker_quantiles_median', y='output', hue='construct', palette=main_palette, \n",
    "             legend=False, dashes=False, style='construct', markers=main_markers, kind='line', markersize=10, markeredgewidth=1,\n",
    "             estimator=sp.stats.gmean, errorbar=lambda x: (sp.stats.gmean(x) / sp.stats.gstd(x), sp.stats.gmean(x) * sp.stats.gstd(x)),\n",
    "             col='amount')\n",
    "g.set(xscale='log', yscale='log', xlabel='marker', ylim=(2e1,1e5))\n",
    "marker_baseline = stats.loc[(stats['exp']=='exp100.3') & (stats['construct']=='AIO.039'), 'output_gmean'].mean()\n",
    "for _, ax in g.axes_dict.items(): ax.axhline(marker_baseline, color='black', ls=':', zorder=0)\n",
    "g.figure.savefig(rd.outfile(output_path/'line_exp100.3_by-amount.svg'))"
   ]
  },
  {
   "cell_type": "code",
   "execution_count": null,
   "metadata": {},
   "outputs": [],
   "source": [
    "plot_df = df_quantiles[(df_quantiles['construct']!='AIO.039') & (df_quantiles['exp']=='exp100.5')]\n",
    "g = sns.relplot(data=plot_df, x='bin_marker_quantiles_median', y='output', hue='construct', palette=main_palette, \n",
    "             legend=False, dashes=False, style='construct', markers=main_markers, kind='line', markersize=10, markeredgewidth=1,\n",
    "             estimator=sp.stats.gmean, errorbar=lambda x: (sp.stats.gmean(x) / sp.stats.gstd(x), sp.stats.gmean(x) * sp.stats.gstd(x)),\n",
    "             col='amount')\n",
    "g.set(xscale='log', yscale='log', xlabel='marker', ylim=(2e1,1e5))\n",
    "marker_baseline = stats.loc[(stats['exp']=='exp100.5') & (stats['construct']=='AIO.039'), 'output_gmean'].mean()\n",
    "for _, ax in g.axes_dict.items(): ax.axhline(marker_baseline, color='black', ls=':', zorder=0)\n",
    "g.figure.savefig(rd.outfile(output_path/'line_exp100.5_by-amount.svg'))"
   ]
  },
  {
   "cell_type": "code",
   "execution_count": null,
   "metadata": {},
   "outputs": [],
   "source": [
    "label = {\n",
    "    'RC140': 'base',\n",
    "    'RC142': 'OL circuit',\n",
    "    'RC143': 'CL circuit',\n",
    "}\n",
    "df_quantiles['label'] = df_quantiles['construct'].map(label)\n",
    "stats['label'] = stats['construct'].map(label)\n",
    "fits['label'] = fits['construct'].map(label)"
   ]
  },
  {
   "cell_type": "code",
   "execution_count": null,
   "metadata": {},
   "outputs": [],
   "source": [
    "plot_df = df_quantiles[(df_quantiles['construct']!='AIO.039') & (df_quantiles['exp']=='exp100.1')].sort_values('construct')\n",
    "g = sns.relplot(data=plot_df, x='bin_marker_quantiles_median', y='output', hue='amount', palette=no_yellow_viridis, \n",
    "                hue_norm=matplotlib.colors.LogNorm(),\n",
    "                legend=False, dashes=False, style='construct', markers=main_markers, kind='line', markersize=10, markeredgewidth=1,\n",
    "                estimator=sp.stats.gmean, errorbar=lambda x: (sp.stats.gmean(x) / sp.stats.gstd(x), sp.stats.gmean(x) * sp.stats.gstd(x)),\n",
    "                col='label')\n",
    "g.set(xscale='log', yscale='log', xlabel='marker', ylim=(2e1,1e5))\n",
    "g.set_titles('{col_name}')\n",
    "marker_baseline = stats.loc[(stats['exp']=='exp100.1') & (stats['construct']=='AIO.039'), 'output_gmean'].mean()\n",
    "for _, ax in g.axes_dict.items(): ax.axhline(marker_baseline, color='black', ls=':', zorder=0)\n",
    "g.figure.savefig(rd.outfile(output_path/'line_exp100_by-construct.svg'))"
   ]
  },
  {
   "cell_type": "code",
   "execution_count": null,
   "metadata": {},
   "outputs": [],
   "source": [
    "plot_df = df_quantiles[(df_quantiles['construct']!='AIO.039') & (df_quantiles['exp']=='exp100.3')].sort_values('construct')\n",
    "g = sns.relplot(data=plot_df, x='bin_marker_quantiles_median', y='output', hue='amount', palette=no_yellow_viridis, \n",
    "                hue_norm=matplotlib.colors.LogNorm(),\n",
    "                legend=False, dashes=False, style='construct', markers=main_markers, kind='line', markersize=10, markeredgewidth=1,\n",
    "                estimator=sp.stats.gmean, errorbar=lambda x: (sp.stats.gmean(x) / sp.stats.gstd(x), sp.stats.gmean(x) * sp.stats.gstd(x)),\n",
    "                col='label')\n",
    "g.set(xscale='log', yscale='log', xlabel='marker', ylim=(2e1,1e5))\n",
    "g.set_titles('{col_name}')\n",
    "marker_baseline = stats.loc[(stats['exp']=='exp100.3') & (stats['construct']=='AIO.039'), 'output_gmean'].mean()\n",
    "for _, ax in g.axes_dict.items(): ax.axhline(marker_baseline, color='black', ls=':', zorder=0)\n",
    "g.figure.savefig(rd.outfile(output_path/'line_exp100.3_by-construct.svg'))"
   ]
  },
  {
   "cell_type": "code",
   "execution_count": null,
   "metadata": {},
   "outputs": [],
   "source": [
    "plot_df = df_quantiles[(df_quantiles['construct']!='AIO.039') & (df_quantiles['exp']=='exp100.5')].sort_values('construct')\n",
    "g = sns.relplot(data=plot_df, x='bin_marker_quantiles_median', y='output', hue='amount', palette=no_yellow_viridis, \n",
    "                hue_norm=matplotlib.colors.LogNorm(),\n",
    "                legend=False, dashes=False, style='construct', markers=main_markers, kind='line', markersize=10, markeredgewidth=1,\n",
    "                estimator=sp.stats.gmean, errorbar=lambda x: (sp.stats.gmean(x) / sp.stats.gstd(x), sp.stats.gmean(x) * sp.stats.gstd(x)),\n",
    "                col='label')\n",
    "g.set(xscale='log', yscale='log', xlabel='marker', ylim=(2e1,1e5))\n",
    "g.set_titles('{col_name}')\n",
    "marker_baseline = stats.loc[(stats['exp']=='exp100.5') & (stats['construct']=='AIO.039'), 'output_gmean'].mean()\n",
    "for _, ax in g.axes_dict.items(): ax.axhline(marker_baseline, color='black', ls=':', zorder=0)\n",
    "g.figure.savefig(rd.outfile(output_path/'line_exp100.5_by-construct.svg'))"
   ]
  },
  {
   "cell_type": "code",
   "execution_count": null,
   "metadata": {},
   "outputs": [],
   "source": [
    "plot_df = fits[(fits['construct']!='AIO.039') & (fits['exp']=='exp100.1')].sort_values('construct')\n",
    "\n",
    "fig, axes = plt.subplots(1,2, figsize=(10,5), sharey=True,)\n",
    "sns.scatterplot(data=plot_df, x='label', y='slope', hue='amount', palette=no_yellow_viridis, \n",
    "                hue_norm=matplotlib.colors.LogNorm(), legend=False, ax=axes[0])\n",
    "axes[0].set(xlabel='', ylim=(0,1.2), xlim=(-0.5,2.5))\n",
    "\n",
    "sns.scatterplot(data=plot_df, x='amount', y='slope', hue='construct', palette=main_palette,\n",
    "                style='construct', markers=main_markers, legend=False, ax=axes[1])\n",
    "axes[1].set(ylim=(0,1.2))\n",
    "sns.despine()\n",
    "\n",
    "fig.savefig(rd.outfile(output_path/'scatter_exp100_slopes.svg'), bbox_inches='tight')"
   ]
  },
  {
   "cell_type": "code",
   "execution_count": null,
   "metadata": {},
   "outputs": [],
   "source": [
    "plot_df = fits[(fits['construct']!='AIO.039') & (fits['exp'].isin(['exp100.1', 'exp100.3', 'exp100.5']))].sort_values('construct')\n",
    "\n",
    "fig, axes = plt.subplots(1,2, figsize=(10,5), sharey=True,)\n",
    "sns.stripplot(data=plot_df, x='label', y='slope', hue='amount', palette=no_yellow_viridis, \n",
    "                hue_norm=matplotlib.colors.LogNorm(), legend=False, ax=axes[0], dodge=True, jitter=False,\n",
    "                size=9, linewidth=1, edgecolor='white')\n",
    "axes[0].set(xlabel='', ylim=(0,1.2), xlim=(-0.5,2.5))\n",
    "\n",
    "sns.scatterplot(data=plot_df, x='amount', y='slope', hue='construct', palette=main_palette,\n",
    "                style='construct', markers=main_markers, legend=False, ax=axes[1])\n",
    "axes[1].set(ylim=(0,1.2))\n",
    "sns.despine()\n",
    "\n",
    "fig.savefig(rd.outfile(output_path/'scatter_slopes.svg'), bbox_inches='tight')"
   ]
  }
 ],
 "metadata": {
  "kernelspec": {
   "display_name": "env",
   "language": "python",
   "name": "python3"
  },
  "language_info": {
   "codemirror_mode": {
    "name": "ipython",
    "version": 3
   },
   "file_extension": ".py",
   "mimetype": "text/x-python",
   "name": "python",
   "nbconvert_exporter": "python",
   "pygments_lexer": "ipython3"
  }
 },
 "nbformat": 4,
 "nbformat_minor": 2
}
